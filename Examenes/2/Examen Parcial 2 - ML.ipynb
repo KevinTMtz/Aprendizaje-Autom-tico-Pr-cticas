{
 "cells": [
  {
   "attachments": {
    "imagen.png": {
     "image/png": "[encoded data removed]"
    }
   },
   "cell_type": "markdown",
   "metadata": {},
   "source": [
    "![imagen.png](attachment:imagen.png)"
   ]
  },
  {
   "cell_type": "markdown",
   "metadata": {},
   "source": [
    "<h1><center>Campus Ciudad de México, \n",
    "Escuela Ingeniería y Ciencias, \n",
    "Computación</center></h1>\n",
    "\n",
    "<h3><center>Course: TC3020.1 (Machine Learning)</center>\n",
    "<center>Professor: Mauricio Rosales Rivera</center>\n",
    "<center>Second Partial Evaluation</center></h3>\n",
    "    \n",
    "<h3><center>Date: November 2, 2021</center></h3>\n",
    "\n",
    "---\n",
    "\n",
    "<h3>Grade: </h3>\n",
    "\n",
    "---\n",
    "<h4><center>Student's information</center></h4>\n",
    "<h4>Name:</h4>\n",
    "<h4>Student ID:</h4>"
   ]
  },
  {
   "cell_type": "markdown",
   "metadata": {},
   "source": [
    "$$Apegándome al Código de Ética de los Estudiantes del Tecnológico de Monterrey, me comprometo a que mi actuación en este examen esté regida por la honestidad académica. En congruencia con el compromiso adquirido al firmar dicho código, realizaré este examen de forma honesta y personal, para reflejar, a través de él, mi conocimiento y aceptar, posteriormente, la evaluación obtenida.$$"
   ]
  },
  {
   "cell_type": "markdown",
   "metadata": {},
   "source": [
    "# Examen Parcial 2 - Aprendizaje Máquina\n",
    "\n",
    "---\n",
    "\n",
    "Inidicaciones: El examen consta de ejercicios prácticos, los cuales se abordan lo visto en los temas 3 y 4.\n",
    "\n",
    "Se evalua el desarrollo adecuado de la metodología para el ajuste de los datos, el modelo y la precisión del mismo.\n",
    "\n",
    "* Fecha de liberación del examen: Viernes 22 de octubre.\n",
    "\n",
    "* Fecha límite de entrega: Martes 2 de noviembre hasta las 23:59 hrs\n",
    "\n",
    "Esta notebook deberá contener el nombre completo, matrícula y el link correspondiente al GitHub de cada integrante.\n",
    "\n",
    "En caso de no tener la información aquí solicitada, no se evaluará el examen."
   ]
  },
  {
   "cell_type": "markdown",
   "metadata": {},
   "source": [
    "---\n",
    "# Sección 1\n",
    "\n",
    "### Ingeniería de Características\n",
    "\n",
    "---"
   ]
  },
  {
   "cell_type": "markdown",
   "metadata": {},
   "source": [
    "Tomando como referencia la información en la notebook <font color=red>\"Feature_Engineering\"</font>, deberán utilizar los archivos de <font color=blue>\"train.csv\"</font> y <font color=green>\"test.csv\"</font> como punto de referencia.\n",
    "\n",
    "En esta notebook se realiza una parte importante del pre-procesamiento, que es la ingeniería de características, donde a partir del análisis estadístico preliminar, podríamos sustituir, ajustar, imputar datos o crear nuevas variables con fines prácticos.\n",
    "\n",
    "----\n",
    "\n",
    "Idea: Aplicar su propio pipeline para replicar o mejorar los resultados de predicción de los diversos algoritmos puestos en dicha notebook. Pueden enfocarse solamente en los primeros 5 algoritmos que tuvieron un desempeño mayor al 79% en este ejercicio.\n",
    "\n",
    "----\n",
    "\n",
    "En cada apartado, deberán explicar el preprocesamiento que realizaron, así como el porqué es conveniente (o no) aplicar validación cruzada (CV) y gridsearch."
   ]
  },
  {
   "cell_type": "code",
   "execution_count": null,
   "metadata": {},
   "outputs": [],
   "source": [
    "#Aquí sus códigos (añadan las líneas necesarias)"
   ]
  },
  {
   "cell_type": "code",
   "execution_count": null,
   "metadata": {},
   "outputs": [],
   "source": [
    "#Aquí sus códigos (añadan las líneas necesarias)"
   ]
  },
  {
   "cell_type": "code",
   "execution_count": null,
   "metadata": {},
   "outputs": [],
   "source": [
    "#Aquí sus códigos (añadan las líneas necesarias)"
   ]
  },
  {
   "cell_type": "markdown",
   "metadata": {},
   "source": [
    "---\n",
    "---\n",
    "\n",
    "# Sección 2\n",
    "\n",
    "### Recomendaciones usando técnicas de ML (Web Scrapping, Supervised, Unsupervised)\n",
    "\n",
    "---"
   ]
  },
  {
   "cell_type": "markdown",
   "metadata": {},
   "source": [
    "Tomando como referencia la información en la notebook <font color=red>\"Unsupervised_Prediction\"</font>, deberán utilizar los archivos de <font color=blue>\"anime.csv\"</font> y <font color=green>\"rating.csv\"</font> como punto de referencia.\n",
    "\n",
    "En esta notebook se realiza una parte importante del pre-procesamiento. Posteriormente, la aplicación del análisis de componentes principales (PCA), k-means y la descripción de las recomendaciones para al menos 3 clusters generados.\n",
    "\n",
    "Aplicar la técnica de webscrapping y explicar su funcionamiento (**puede tardar desde 10 minutos hasta 1 hora aproximadamente; dependiendo la cantidad de registros que hayan usado**). Tomen en cuenta que esta búsqueda va acorde a los ids del conjunto de datos que les hace falta información y, a partir de esta técnica de minería de datos, completamos los registros faltantes.\n",
    "\n",
    "Posteriormente, entrenar el algoritmo de k-NN para obtener las distancias de cada id del conjunto de datos, para obtener los indices y distancias correspondientes que nos servirán para proporcionar recomendaciones con respecto a estos resultados.\n",
    "\n",
    "----\n",
    "\n",
    "Idea: Aplicar su propio pipeline para replicar los resultados de predicción/recomendación de este ejercicio.\n",
    "\n",
    "----\n",
    "\n",
    "En cada apartado, deberán explicar el preprocesamiento que realizaron."
   ]
  },
  {
   "cell_type": "code",
   "execution_count": null,
   "metadata": {},
   "outputs": [],
   "source": [
    "#Aquí sus códigos (añadan las líneas necesarias)"
   ]
  },
  {
   "cell_type": "code",
   "execution_count": null,
   "metadata": {},
   "outputs": [],
   "source": [
    "#Aquí sus códigos (añadan las líneas necesarias)"
   ]
  },
  {
   "cell_type": "code",
   "execution_count": 1,
   "metadata": {},
   "outputs": [],
   "source": [
    "#Aquí sus códigos (añadan las líneas necesarias)"
   ]
  },
  {
   "cell_type": "markdown",
   "metadata": {},
   "source": [
    "---\n",
    "---\n",
    "\n",
    "# Sección 3\n",
    "\n",
    "### Aplicación de modelos de DL\n",
    "---"
   ]
  },
  {
   "cell_type": "markdown",
   "metadata": {},
   "source": [
    "Tomando como referencia la información en la notebook <font color=red>\"Unsupervised_Prediction\"</font>, deberán utilizar los archivos de las imágenes en <font color=blue>\"dataset\"</font>, de los apartados <font color=magenta>covid y normal</font> (**podrían tratar de añadir más imágenes a cada tipo para mejorar los resultados**) y, finalmente, probar el modelo con imágenes del set de datos en la carpeta <font color=green>\"test\"</font> como punto de referencia.\n",
    "\n",
    "Aplicaremos la red VGG16 (pero podrían ver la posibilidad de tratar de aplicar otro modelo de los que se encuentran en **tensorflow.keras.applications**).\n",
    "\n",
    "Pueden tratar de jugar con la estructura definida en *\"base model\"*, siempre y cuando hayan visto el link que viene al final de ese apartado de dicha red VGG16.\n",
    "\n",
    "-----\n",
    "Podemos jugar un poco con la información de las inicialiaciones de las variables **INIT_LR, EPOCS, BS** para observar si hay o no mejoría en los resultados de entrenamiento.\n",
    "\n",
    "Aplicar la técnica de DL y explicar su funcionamiento (**puede tardar desde 5 hasta 30 minutos aproximadamente; 5 minutos con los datos proporcionados, más tiempo en caso de añadir nuevas imágenes**).\n",
    "\n",
    "----\n",
    "\n",
    "En cada apartado, traten de explicar el proceso que se está llevando a cabo."
   ]
  },
  {
   "cell_type": "markdown",
   "metadata": {},
   "source": [
    "Primero, tenemos que importar las librerías que utilizaremos"
   ]
  },
  {
   "cell_type": "code",
   "execution_count": 2,
   "metadata": {},
   "outputs": [
    {
     "name": "stderr",
     "output_type": "stream",
     "text": [
      "WARNING: You are using pip version 21.3; however, version 21.3.1 is available.\n",
      "You should consider upgrading via the 'C:\\Users\\sebas\\AppData\\Local\\Programs\\Python\\Python39\\python.exe -m pip install --upgrade pip' command.\n"
     ]
    },
    {
     "name": "stdout",
     "output_type": "stream",
     "text": [
      "Collecting imutils\n",
      "  Downloading imutils-0.5.4.tar.gz (17 kB)\n",
      "  Preparing metadata (setup.py): started\n",
      "  Preparing metadata (setup.py): finished with status 'done'\n",
      "Building wheels for collected packages: imutils\n",
      "  Building wheel for imutils (setup.py): started\n",
      "  Building wheel for imutils (setup.py): finished with status 'done'\n",
      "  Created wheel for imutils: filename=imutils-0.5.4-py3-none-any.whl size=25860 sha256=4021807c5c27a2ad83fd5fb9f492b62ee496f47418ae6c3426e8b57b301ac933\n",
      "  Stored in directory: c:\\users\\sebas\\appdata\\local\\pip\\cache\\wheels\\4b\\a5\\2d\\4a070a801d3a3d93f033d3ee9728f470f514826e89952df3ea\n",
      "Successfully built imutils\n",
      "Installing collected packages: imutils\n",
      "Successfully installed imutils-0.5.4\n"
     ]
    }
   ],
   "source": [
    "from tensorflow.keras.preprocessing.image import ImageDataGenerator\n",
    "from tensorflow.keras.applications import VGG16\n",
    "from tensorflow.keras.layers import AveragePooling2D\n",
    "from tensorflow.keras.layers import Dropout\n",
    "from tensorflow.keras.layers import Flatten\n",
    "from tensorflow.keras.layers import Dense\n",
    "from tensorflow.keras.layers import Input\n",
    "from tensorflow.keras.models import Model\n",
    "from tensorflow.keras.optimizers import Adam\n",
    "from tensorflow.keras.utils import to_categorical\n",
    "from sklearn.preprocessing import LabelBinarizer\n",
    "from sklearn.model_selection import train_test_split\n",
    "from sklearn.metrics import classification_report\n",
    "from sklearn.metrics import confusion_matrix\n",
    "!pip install imutils\n",
    "from imutils import paths\n",
    "import matplotlib.pyplot as plt\n",
    "import numpy as np\n",
    "import argparse\n",
    "import cv2\n",
    "import os"
   ]
  },
  {
   "cell_type": "markdown",
   "metadata": {},
   "source": [
    "Definimos:\n",
    "- El learning rate a 0.005\n",
    "- Las épocas a 30\n",
    "- Y el batch size a 5\n",
    "Utilizaremos estas variables al momento de entrenar nuestro modelo"
   ]
  },
  {
   "cell_type": "code",
   "execution_count": 35,
   "metadata": {},
   "outputs": [],
   "source": [
    "INIT_LR = 5e-3\n",
    "EPOCHS = 30\n",
    "BS = 5"
   ]
  },
  {
   "cell_type": "markdown",
   "metadata": {},
   "source": [
    "Definimos el path de las imágenes y definimos un array de datos de imágenes (este será nuestra 'X') y de etiquetas (este será nuestra 'Y' objetivo)"
   ]
  },
  {
   "cell_type": "code",
   "execution_count": 36,
   "metadata": {},
   "outputs": [
    {
     "name": "stdout",
     "output_type": "stream",
     "text": [
      "[INFO] loading images...\n"
     ]
    }
   ],
   "source": [
    "print(\"[INFO] loading images...\")\n",
    "imagePaths = list(paths.list_images(\"dataset/\"))\n",
    "data = []\n",
    "labels = []"
   ]
  },
  {
   "cell_type": "markdown",
   "metadata": {},
   "source": [
    "- Cargamos las imágenes a memoria y etiquetas a memoria\n",
    "- Realizamos transformaciones del color de las imágenes para que pasen de BGR a RGB\n",
    "- Transformamos las imágenes para que todas tengan la misma resolución de 224x224\n",
    "- Agregamos las imágenes transformadas y etiquetas a sus respectivos arrays"
   ]
  },
  {
   "cell_type": "code",
   "execution_count": 37,
   "metadata": {},
   "outputs": [],
   "source": [
    "for imagePath in imagePaths:\n",
    "    label = imagePath.split(os.path.sep)[-2]\n",
    "    image = cv2.imread(imagePath)\n",
    "    image = cv2.cvtColor(image, cv2.COLOR_BGR2RGB)\n",
    "    image = cv2.resize(image, (224, 224))\n",
    "    data.append(image)\n",
    "    labels.append(label)"
   ]
  },
  {
   "cell_type": "markdown",
   "metadata": {},
   "source": [
    "Realizaremos el mismo proceso para las imágenes de test"
   ]
  },
  {
   "cell_type": "code",
   "execution_count": 38,
   "metadata": {},
   "outputs": [],
   "source": [
    "miniTest = list(paths.list_images(\"test/\"))\n",
    "test1 = []\n",
    "test2 = []"
   ]
  },
  {
   "cell_type": "code",
   "execution_count": 39,
   "metadata": {},
   "outputs": [],
   "source": [
    "for imageP in miniTest:\n",
    "    lbl = imageP.split(os.path.sep)[-1]\n",
    "    img = cv2.imread(imageP)\n",
    "    img = cv2.cvtColor(img, cv2.COLOR_BGR2RGB)\n",
    "    img = cv2.resize(img, (224, 224))\n",
    "    test1.append(img)\n",
    "    test2.append(lbl)"
   ]
  },
  {
   "cell_type": "markdown",
   "metadata": {},
   "source": [
    "Normalizamos los datos de las imágenes para que se encuentren entre 0 y 1. Además convertimos los arrays de python a numpy arrays. También estamos usando `LabelBinarizer()` que realiza el mismo proceso que `OneHotEncoder()`."
   ]
  },
  {
   "cell_type": "code",
   "execution_count": 40,
   "metadata": {},
   "outputs": [],
   "source": [
    "data = np.array(data) / 255.0\n",
    "labels = np.array(labels)\n",
    "\n",
    "test1 = np.array(test1) / 255.0\n",
    "test2 = np.array(test2)\n",
    "\n",
    "lbs = LabelBinarizer()\n",
    "labels = lbs.fit_transform(labels)\n",
    "labels = to_categorical(labels)\n",
    "\n",
    "lbs2 = LabelBinarizer()\n",
    "test2 = lbs2.fit_transform(test2)\n",
    "test2 = to_categorical(test2)"
   ]
  },
  {
   "cell_type": "markdown",
   "metadata": {},
   "source": [
    "- Realizamos el split de los datos, con una proproción de 0.80/0.20, con labels estratificadas y una semilla de 42\n",
    "- Realizamos tranformaciones a las imágenes con el objetivo de que el modelo aprenda a identificarlas desde distintas rotaciones, por ejemplo\n",
    "- El modelo que utilizaremos será VGG16 entrenado previamente con el dataset de Imagenet, la opción `include_top` es `False` para que podamos utilizar este modelo para la transferncia de conocimiento"
   ]
  },
  {
   "cell_type": "code",
   "execution_count": 41,
   "metadata": {},
   "outputs": [],
   "source": [
    "(trainX, testX, trainY, testY) = train_test_split(data, labels,\n",
    "\ttest_size=0.20, stratify=labels, random_state=42)\n",
    "\n",
    "trainAug = ImageDataGenerator(\n",
    "\trotation_range=15,\n",
    "\tfill_mode=\"nearest\")\n",
    "\n",
    "baseModel = VGG16(weights=\"imagenet\", include_top=False,\n",
    "\tinput_tensor=Input(shape=(224, 224, 3)))"
   ]
  },
  {
   "cell_type": "markdown",
   "metadata": {},
   "source": [
    "Definimos las siguientes capas para nuestra CNN:\n",
    "- Nuestro modelo base (VGG16)\n",
    "- Utilizamos la capa `AveragePooling2D` para reducir la muestra de los datos, se obtendrá el promedio de secciones de 4x4 de las imágenes, por lo que se tendrá como resultado final una muestra de 56x56\n",
    "- Utilizamos `Flatten`para \"aplanar\" las dimensiones del output anterior, de tal manera que quedaría como: 3136x1\n",
    "- Utilizamos una capa densa con una función de activación `relu`\n",
    "- Indicamos un `Dropout` del 50% para que cada neurona tenga un 50% de \"apagarse\", con el objetivo de que otras neuronas no se hagan dependientes de esta y que la precisión del modelo mejore con ello\n",
    "- Finalmente, agregamos una última capa densa con una función de activación `softmax`"
   ]
  },
  {
   "cell_type": "code",
   "execution_count": 42,
   "metadata": {},
   "outputs": [],
   "source": [
    "headModel = baseModel.output\n",
    "headModel = AveragePooling2D(pool_size=(4, 4))(headModel)\n",
    "headModel = Flatten(name=\"flatten\")(headModel)\n",
    "headModel = Dense(64, activation=\"relu\")(headModel)\n",
    "headModel = Dropout(0.5)(headModel)\n",
    "headModel = Dense(2, activation=\"softmax\")(headModel)"
   ]
  },
  {
   "cell_type": "markdown",
   "metadata": {},
   "source": [
    "Compilamos el modelo indicando como se calculará su pérdida, cuál es el optimizador que utilizaremos (que en este caso es `Adam`) y las métricas"
   ]
  },
  {
   "cell_type": "code",
   "execution_count": 43,
   "metadata": {},
   "outputs": [
    {
     "name": "stdout",
     "output_type": "stream",
     "text": [
      "[INFO] compiling model...\n"
     ]
    },
    {
     "name": "stderr",
     "output_type": "stream",
     "text": [
      "C:\\Users\\sebas\\AppData\\Local\\Programs\\Python\\Python39\\lib\\site-packages\\keras\\optimizer_v2\\optimizer_v2.py:355: UserWarning: The `lr` argument is deprecated, use `learning_rate` instead.\n",
      "  warnings.warn(\n"
     ]
    }
   ],
   "source": [
    "model = Model(inputs=baseModel.input, outputs=headModel)\n",
    "for layer in baseModel.layers:\n",
    "\tlayer.trainable = False\n",
    "\n",
    "print(\"[INFO] compiling model...\")\n",
    "opt = Adam(lr=INIT_LR, decay=INIT_LR / EPOCHS)\n",
    "model.compile(loss=\"binary_crossentropy\", optimizer=opt,\n",
    "\tmetrics=[\"accuracy\"])"
   ]
  },
  {
   "cell_type": "markdown",
   "metadata": {},
   "source": [
    "Entrenamos el modelo con las épcas y batch size previamente definidas"
   ]
  },
  {
   "cell_type": "code",
   "execution_count": 44,
   "metadata": {},
   "outputs": [
    {
     "name": "stdout",
     "output_type": "stream",
     "text": [
      "[INFO] training head...\n",
      "Epoch 1/30\n"
     ]
    },
    {
     "name": "stderr",
     "output_type": "stream",
     "text": [
      "C:\\Users\\sebas\\AppData\\Local\\Programs\\Python\\Python39\\lib\\site-packages\\keras\\engine\\training.py:1972: UserWarning: `Model.fit_generator` is deprecated and will be removed in a future version. Please use `Model.fit`, which supports generators.\n",
      "  warnings.warn('`Model.fit_generator` is deprecated and '\n"
     ]
    },
    {
     "name": "stdout",
     "output_type": "stream",
     "text": [
      "8/8 [==============================] - 4s 480ms/step - loss: 0.8341 - accuracy: 0.5250 - val_loss: 0.6800 - val_accuracy: 0.5000\n",
      "Epoch 2/30\n",
      "8/8 [==============================] - 4s 449ms/step - loss: 0.6979 - accuracy: 0.6000 - val_loss: 0.6293 - val_accuracy: 0.9000\n",
      "Epoch 3/30\n",
      "8/8 [==============================] - 4s 451ms/step - loss: 0.6925 - accuracy: 0.5500 - val_loss: 0.6275 - val_accuracy: 0.5000\n",
      "Epoch 4/30\n",
      "8/8 [==============================] - 4s 458ms/step - loss: 0.5675 - accuracy: 0.7500 - val_loss: 0.5625 - val_accuracy: 0.8000\n",
      "Epoch 5/30\n",
      "8/8 [==============================] - 4s 460ms/step - loss: 0.5635 - accuracy: 0.7500 - val_loss: 0.5311 - val_accuracy: 0.9000\n",
      "Epoch 6/30\n",
      "8/8 [==============================] - 4s 459ms/step - loss: 0.5304 - accuracy: 0.7750 - val_loss: 0.5151 - val_accuracy: 0.9000\n",
      "Epoch 7/30\n",
      "8/8 [==============================] - 4s 489ms/step - loss: 0.4717 - accuracy: 0.8250 - val_loss: 0.4701 - val_accuracy: 1.0000\n",
      "Epoch 8/30\n",
      "8/8 [==============================] - 4s 488ms/step - loss: 0.3954 - accuracy: 0.8750 - val_loss: 0.4199 - val_accuracy: 1.0000\n",
      "Epoch 9/30\n",
      "8/8 [==============================] - 4s 489ms/step - loss: 0.4703 - accuracy: 0.7750 - val_loss: 0.3733 - val_accuracy: 0.8000\n",
      "Epoch 10/30\n",
      "8/8 [==============================] - 4s 486ms/step - loss: 0.2964 - accuracy: 0.9500 - val_loss: 0.3515 - val_accuracy: 1.0000\n",
      "Epoch 11/30\n",
      "8/8 [==============================] - 4s 493ms/step - loss: 0.4180 - accuracy: 0.8500 - val_loss: 0.2984 - val_accuracy: 0.9000\n",
      "Epoch 12/30\n",
      "8/8 [==============================] - 4s 492ms/step - loss: 0.3043 - accuracy: 0.9000 - val_loss: 0.2538 - val_accuracy: 1.0000\n",
      "Epoch 13/30\n",
      "8/8 [==============================] - 4s 484ms/step - loss: 0.3694 - accuracy: 0.8750 - val_loss: 0.2248 - val_accuracy: 1.0000\n",
      "Epoch 14/30\n",
      "8/8 [==============================] - 4s 482ms/step - loss: 0.2826 - accuracy: 0.9000 - val_loss: 0.2068 - val_accuracy: 1.0000\n",
      "Epoch 15/30\n",
      "8/8 [==============================] - 4s 486ms/step - loss: 0.2849 - accuracy: 0.9000 - val_loss: 0.1659 - val_accuracy: 1.0000\n",
      "Epoch 16/30\n",
      "8/8 [==============================] - 4s 497ms/step - loss: 0.2735 - accuracy: 0.8500 - val_loss: 0.1858 - val_accuracy: 1.0000\n",
      "Epoch 17/30\n",
      "8/8 [==============================] - 4s 487ms/step - loss: 0.3066 - accuracy: 0.9250 - val_loss: 0.2216 - val_accuracy: 0.9000\n",
      "Epoch 18/30\n",
      "8/8 [==============================] - 4s 492ms/step - loss: 0.2192 - accuracy: 0.9250 - val_loss: 0.1532 - val_accuracy: 1.0000\n",
      "Epoch 19/30\n",
      "8/8 [==============================] - 4s 483ms/step - loss: 0.1959 - accuracy: 0.9750 - val_loss: 0.1301 - val_accuracy: 1.0000\n",
      "Epoch 20/30\n",
      "8/8 [==============================] - 4s 521ms/step - loss: 0.2118 - accuracy: 0.9500 - val_loss: 0.1555 - val_accuracy: 0.9000\n",
      "Epoch 21/30\n",
      "8/8 [==============================] - 4s 483ms/step - loss: 0.2124 - accuracy: 0.9500 - val_loss: 0.1178 - val_accuracy: 1.0000\n",
      "Epoch 22/30\n",
      "8/8 [==============================] - 4s 486ms/step - loss: 0.1506 - accuracy: 0.9500 - val_loss: 0.0956 - val_accuracy: 1.0000\n",
      "Epoch 23/30\n",
      "8/8 [==============================] - 4s 486ms/step - loss: 0.1306 - accuracy: 0.9500 - val_loss: 0.0821 - val_accuracy: 1.0000\n",
      "Epoch 24/30\n",
      "8/8 [==============================] - 4s 483ms/step - loss: 0.1239 - accuracy: 0.9500 - val_loss: 0.1844 - val_accuracy: 0.9000\n",
      "Epoch 25/30\n",
      "8/8 [==============================] - 4s 487ms/step - loss: 0.1911 - accuracy: 0.9500 - val_loss: 0.0803 - val_accuracy: 1.0000\n",
      "Epoch 26/30\n",
      "8/8 [==============================] - 4s 484ms/step - loss: 0.2644 - accuracy: 0.9000 - val_loss: 0.1210 - val_accuracy: 1.0000\n",
      "Epoch 27/30\n",
      "8/8 [==============================] - 4s 503ms/step - loss: 0.1952 - accuracy: 0.9750 - val_loss: 0.1331 - val_accuracy: 1.0000\n",
      "Epoch 28/30\n",
      "8/8 [==============================] - 4s 486ms/step - loss: 0.1174 - accuracy: 0.9750 - val_loss: 0.0762 - val_accuracy: 1.0000\n",
      "Epoch 29/30\n",
      "8/8 [==============================] - 4s 485ms/step - loss: 0.2230 - accuracy: 0.9250 - val_loss: 0.0654 - val_accuracy: 1.0000\n",
      "Epoch 30/30\n",
      "8/8 [==============================] - 4s 509ms/step - loss: 0.1213 - accuracy: 0.9750 - val_loss: 0.0888 - val_accuracy: 1.0000\n"
     ]
    }
   ],
   "source": [
    "print(\"[INFO] training head...\")\n",
    "H = model.fit_generator(\n",
    "\ttrainAug.flow(trainX, trainY, batch_size=BS),\n",
    "\tsteps_per_epoch=len(trainX) // BS,\n",
    "\tvalidation_data=(testX, testY),\n",
    "\tvalidation_steps=len(testX) // BS,\n",
    "\tepochs=EPOCHS)"
   ]
  },
  {
   "cell_type": "markdown",
   "metadata": {},
   "source": [
    "Probamos el modelo con los datos asignados para la prueba y obtenemos el reporte de clasificación de esta predicción, en nuestro caso podemos notar que el modelo predijo correctamente todos los casos de prueba"
   ]
  },
  {
   "cell_type": "code",
   "execution_count": 45,
   "metadata": {},
   "outputs": [
    {
     "name": "stdout",
     "output_type": "stream",
     "text": [
      "[INFO] evaluating network...\n",
      "                precision    recall  f1-score   support\n",
      "\n",
      " dataset/covid       1.00      1.00      1.00         5\n",
      "dataset/normal       1.00      1.00      1.00         5\n",
      "\n",
      "      accuracy                           1.00        10\n",
      "     macro avg       1.00      1.00      1.00        10\n",
      "  weighted avg       1.00      1.00      1.00        10\n",
      "\n",
      "[[5 0]\n",
      " [0 5]]\n",
      "acc: 1.0000\n",
      "sensitivity: 1.0000\n",
      "specificity: 1.0000\n"
     ]
    }
   ],
   "source": [
    "print(\"[INFO] evaluating network...\")\n",
    "predIdxs = model.predict(testX, batch_size=BS)\n",
    "\n",
    "predIdxs = np.argmax(predIdxs, axis=1)\n",
    "\n",
    "print(classification_report(testY.argmax(axis=1), predIdxs,\n",
    "\ttarget_names=lbs.classes_))\n",
    "\n",
    "cm = confusion_matrix(testY.argmax(axis=1), predIdxs)\n",
    "total = sum(sum(cm))\n",
    "acc = (cm[0, 0] + cm[1, 1]) / total\n",
    "sensitivity = cm[0, 0] / (cm[0, 0] + cm[0, 1])\n",
    "specificity = cm[1, 1] / (cm[1, 0] + cm[1, 1])\n",
    "\n",
    "print(cm)\n",
    "print(\"acc: {:.4f}\".format(acc))\n",
    "print(\"sensitivity: {:.4f}\".format(sensitivity))\n",
    "print(\"specificity: {:.4f}\".format(specificity))"
   ]
  },
  {
   "cell_type": "markdown",
   "metadata": {},
   "source": [
    "En la siguiente gráfica podemos notar como incrementa nuestro `accuracy` a medida que incrementan las épocas (estando por encima del 80% en la mayoría de iteraciones) y cómo disminuye la pérdida."
   ]
  },
  {
   "cell_type": "code",
   "execution_count": 46,
   "metadata": {},
   "outputs": [
    {
     "name": "stdout",
     "output_type": "stream",
     "text": [
      "[INFO] saving COVID-19 detector model...\n"
     ]
    },
    {
     "data": {
      "image/png": "[encoded data removed]",
      "text/plain": [
       "<Figure size 432x288 with 1 Axes>"
      ]
     },
     "metadata": {},
     "output_type": "display_data"
    }
   ],
   "source": [
    "N = EPOCHS\n",
    "plt.style.use(\"ggplot\")\n",
    "plt.figure()\n",
    "plt.plot(np.arange(0, N), H.history[\"loss\"], label=\"train_loss\")\n",
    "plt.plot(np.arange(0, N), H.history[\"val_loss\"], label=\"val_loss\")\n",
    "plt.plot(np.arange(0, N), H.history[\"accuracy\"], label=\"train_acc\")\n",
    "plt.plot(np.arange(0, N), H.history[\"val_accuracy\"], label=\"val_acc\")\n",
    "plt.title(\"Training Loss and Accuracy on COVID-19 Dataset\")\n",
    "plt.xlabel(\"Epoch #\")\n",
    "plt.ylabel(\"Loss/Accuracy\")\n",
    "plt.legend(loc=\"lower left\")\n",
    "plt.savefig(\"results.png\")\n",
    "\n",
    "print(\"[INFO] saving COVID-19 detector model...\")\n",
    "model.save(\"testing.model\", save_format=\"h5\")"
   ]
  },
  {
   "cell_type": "markdown",
   "metadata": {},
   "source": [
    "Finalmente, podemos evaluar las dos imágenes de la carpeta de `tests` con nuestro modelo"
   ]
  },
  {
   "cell_type": "code",
   "execution_count": 49,
   "metadata": {},
   "outputs": [
    {
     "name": "stdout",
     "output_type": "stream",
     "text": [
      "[INFO] evaluating network...\n",
      "                precision    recall  f1-score   support\n",
      "\n",
      " test/test.jpg       0.50      1.00      0.67         1\n",
      "test/test2.jpg       0.00      0.00      0.00         1\n",
      "\n",
      "      accuracy                           0.50         2\n",
      "     macro avg       0.25      0.50      0.33         2\n",
      "  weighted avg       0.25      0.50      0.33         2\n",
      "\n"
     ]
    },
    {
     "name": "stderr",
     "output_type": "stream",
     "text": [
      "C:\\Users\\sebas\\AppData\\Local\\Programs\\Python\\Python39\\lib\\site-packages\\sklearn\\metrics\\_classification.py:1248: UndefinedMetricWarning: Precision and F-score are ill-defined and being set to 0.0 in labels with no predicted samples. Use `zero_division` parameter to control this behavior.\n",
      "  _warn_prf(average, modifier, msg_start, len(result))\n",
      "C:\\Users\\sebas\\AppData\\Local\\Programs\\Python\\Python39\\lib\\site-packages\\sklearn\\metrics\\_classification.py:1248: UndefinedMetricWarning: Precision and F-score are ill-defined and being set to 0.0 in labels with no predicted samples. Use `zero_division` parameter to control this behavior.\n",
      "  _warn_prf(average, modifier, msg_start, len(result))\n",
      "C:\\Users\\sebas\\AppData\\Local\\Programs\\Python\\Python39\\lib\\site-packages\\sklearn\\metrics\\_classification.py:1248: UndefinedMetricWarning: Precision and F-score are ill-defined and being set to 0.0 in labels with no predicted samples. Use `zero_division` parameter to control this behavior.\n",
      "  _warn_prf(average, modifier, msg_start, len(result))\n"
     ]
    }
   ],
   "source": [
    "print(\"[INFO] evaluating network...\")\n",
    "predIdxs = model.predict(test1, batch_size=BS)\n",
    "predIdxs = np.argmax(predIdxs, axis=1)\n",
    "print(classification_report(test2.argmax(axis=1), predIdxs, target_names=lbs2.classes_))"
   ]
  },
  {
   "cell_type": "markdown",
   "metadata": {},
   "source": [
    "Como podemos ver, solo se predijo correctamente uno de los casos de prueba"
   ]
  },
  {
   "cell_type": "code",
   "execution_count": 51,
   "metadata": {},
   "outputs": [
    {
     "name": "stdout",
     "output_type": "stream",
     "text": [
      "[[1 0]\n",
      " [1 0]]\n",
      "acc: 0.5000\n",
      "sensitivity: 1.0000\n",
      "specificity: 0.0000\n"
     ]
    }
   ],
   "source": [
    "cm = confusion_matrix(test2.argmax(axis=1), predIdxs)\n",
    "total = sum(sum(cm))\n",
    "acc = (cm[0, 0] + cm[1, 1]) / total\n",
    "sensitivity = cm[0, 0] / (cm[0, 0] + cm[0, 1])\n",
    "specificity = cm[1, 1] / (cm[1, 0] + cm[1, 1])\n",
    "print(cm)\n",
    "print(\"acc: {:.4f}\".format(acc))\n",
    "print(\"sensitivity: {:.4f}\".format(sensitivity))\n",
    "print(\"specificity: {:.4f}\".format(specificity))"
   ]
  },
  {
   "cell_type": "code",
   "execution_count": null,
   "metadata": {},
   "outputs": [],
   "source": []
  }
 ],
 "metadata": {
  "kernelspec": {
   "display_name": "Python 3 (ipykernel)",
   "language": "python",
   "name": "python3"
  },
  "language_info": {
   "codemirror_mode": {
    "name": "ipython",
    "version": 3
   },
   "file_extension": ".py",
   "mimetype": "text/x-python",
   "name": "python",
   "nbconvert_exporter": "python",
   "pygments_lexer": "ipython3",
   "version": "3.9.7"
  },
  "varInspector": {
   "cols": {
    "lenName": 16,
    "lenType": 16,
    "lenVar": 40
   },
   "kernels_config": {
    "python": {
     "delete_cmd_postfix": "",
     "delete_cmd_prefix": "del ",
     "library": "var_list.py",
     "varRefreshCmd": "print(var_dic_list())"
    },
    "r": {
     "delete_cmd_postfix": ") ",
     "delete_cmd_prefix": "rm(",
     "library": "var_list.r",
     "varRefreshCmd": "cat(var_dic_list()) "
    }
   },
   "types_to_exclude": [
    "module",
    "function",
    "builtin_function_or_method",
    "instance",
    "_Feature"
   ],
   "window_display": false
  }
 },
 "nbformat": 4,
 "nbformat_minor": 4
}
